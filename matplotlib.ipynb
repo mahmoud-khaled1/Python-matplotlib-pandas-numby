{
 "cells": [
  {
   "cell_type": "markdown",
   "id": "jewish-penalty",
   "metadata": {},
   "source": [
    "# Basics of Matplotlib and Seaborn - data visualization with Python\n",
    "---\n",
    "This notebook teaches the basics of two of the most popular visualization libraries in the Python universe - `Matplotlib` and `Seaborn`. We will show, how using minimal code, you can create various types of plots - "
   ]
  }
 ],
 "metadata": {
  "kernelspec": {
   "display_name": "Python 3",
   "language": "python",
   "name": "python3"
  },
  "language_info": {
   "codemirror_mode": {
    "name": "ipython",
    "version": 3
   },
   "file_extension": ".py",
   "mimetype": "text/x-python",
   "name": "python",
   "nbconvert_exporter": "python",
   "pygments_lexer": "ipython3",
   "version": "3.8.1"
  }
 },
 "nbformat": 4,
 "nbformat_minor": 5
}
